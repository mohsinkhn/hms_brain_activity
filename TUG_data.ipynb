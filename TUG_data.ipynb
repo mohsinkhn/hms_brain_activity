{
 "cells": [
  {
   "cell_type": "code",
   "execution_count": 11,
   "id": "0afdd6ad-8a52-490e-8b29-814aa77fc652",
   "metadata": {},
   "outputs": [],
   "source": [
    "import polars as pl\n",
    "import pandas as pd\n",
    "import pyedflib\n",
    "import mne\n",
    "from pathlib import Path\n",
    "import numpy as np\n",
    "import matplotlib.pyplot as plt\n",
    "from scipy import signal\n",
    "from tqdm.auto import tqdm\n",
    "\n",
    "from src.settings import EEG_FEAT_IDX"
   ]
  },
  {
   "cell_type": "code",
   "execution_count": 16,
   "id": "d72d7415-0fd9-4f72-8be5-3bcefd5be929",
   "metadata": {},
   "outputs": [],
   "source": [
    "def get_np_data(path, chch_map, ch_idx_map):\n",
    "    data = mne.io.read_raw_edf(path, include=list(chch_map.keys()), infer_types=True, verbose=False)\n",
    "    if len(data) == 0:\n",
    "        return None\n",
    "    data = data.resample(200)\n",
    "    mapping_idx = {i: ch_idx_map[chch_map[ch]] for i, ch in enumerate(data.ch_names)}\n",
    "    out = np.zeros(shape=(len(data), 19))\n",
    "    data = data.get_data().T\n",
    "    for idx, out_idx in mapping_idx.items():\n",
    "        out[:, out_idx] = data[:, idx]\n",
    "    return out\n",
    "\n",
    "\n",
    "def parse_path_save_data(path, chch_map, ch_idx_map):\n",
    "    fname = Path(path).stem\n",
    "    patient_id, eeg_id, eeg_sub_id = fname.split(\"_\")\n",
    "    eeg_id = patient_id + \"_\" + eeg_id\n",
    "    df = pl.read_csv(path, skip_rows=5).filter(pl.col(\"channel\") == \"FP1-F7\")\n",
    "    df = df.filter(pl.col(\"label\") != \"bckg\")\n",
    "    np_data = get_np_data(str(path).replace('csv', 'edf'), chch_map, ch_idx_map)\n",
    "    if np_data is None:\n",
    "        return\n",
    "    if len(df) == 0:\n",
    "        offset = int(np.random.rand() * 50) * 200\n",
    "        offset = max(0, min(offset, len(np_data) - 50 * 200))\n",
    "        np_data = np_data[offset:50*200+offset]\n",
    "        target = 'bckg'\n",
    "    else: \n",
    "        offset = int(np.random.rand() * 50) * 200\n",
    "        start = int(df['start_time'][0] * 200) - 25 * 200\n",
    "        start = max(0, start) + offset\n",
    "        np_data = np_data[start: start + 50 * 200]\n",
    "        target = df['label'][0]\n",
    "        \n",
    "    np.save(f'data/tug_np/{eeg_id}_{eeg_sub_id}.npy', np_data)\n",
    "    return patient_id, eeg_id, eeg_sub_id, target\n"
   ]
  },
  {
   "cell_type": "code",
   "execution_count": 17,
   "id": "07c20cd9-af4d-458c-83dd-a3b7c9ff6438",
   "metadata": {},
   "outputs": [],
   "source": [
    "chch_mapping = {\n",
    "    'FP1-REF': \"Fp1\",\n",
    " 'FP2-REF': \"Fp2\",\n",
    " 'F3-REF': \"F3\",\n",
    " 'F4-REF': \"F4\",\n",
    " 'C3-REF': \"C3\",\n",
    " 'C4-REF': \"C4\",\n",
    " 'P3-REF': \"P3\",\n",
    " 'P4-REF': \"P4\",\n",
    " 'O1-REF': \"O1\",\n",
    " 'O2-REF': \"O2\",\n",
    " 'F7-REF': \"F7\",\n",
    " 'F8-REF': \"F8\",\n",
    " 'T3-REF': \"T3\",\n",
    " 'T4-REF': \"T4\",\n",
    " 'T5-REF': \"T5\",\n",
    " 'T6-REF': \"T6\",\n",
    " 'FZ-REF': \"Fz\",\n",
    " 'CZ-REF': \"Cz\",\n",
    " 'PZ-REF': \"Pz\",\n",
    "    'FP1-LE': \"Fp1\",\n",
    " 'FP2-LE': \"Fp2\",\n",
    " 'F3-LE': \"F3\",\n",
    " 'F4-LE': \"F4\",\n",
    " 'C3-LE': \"C3\",\n",
    " 'C4-LE': \"C4\",\n",
    " 'P3-LE': \"P3\",\n",
    " 'P4-LE': \"P4\",\n",
    " 'O1-LE': \"O1\",\n",
    " 'O2-LE': \"O2\",\n",
    " 'F7-LE': \"F7\",\n",
    " 'F8-LE': \"F8\",\n",
    " 'T3-LE': \"T3\",\n",
    " 'T4-LE': \"T4\",\n",
    " 'T5-LE': \"T5\",\n",
    " 'T6-LE': \"T6\",\n",
    " 'FZ-LE': \"Fz\",\n",
    " 'CZ-LE': \"Cz\",\n",
    " 'PZ-LE': \"Pz\"\n",
    "}"
   ]
  },
  {
   "cell_type": "code",
   "execution_count": 18,
   "id": "ab2e9167-a60c-4d68-b281-8a99fc1030fc",
   "metadata": {},
   "outputs": [
    {
     "name": "stdout",
     "output_type": "stream",
     "text": [
      "0\n",
      "100\n",
      "200\n",
      "300\n",
      "400\n",
      "500\n",
      "600\n",
      "700\n",
      "800\n",
      "900\n",
      "1000\n",
      "1100\n",
      "1200\n",
      "1300\n",
      "1400\n",
      "1500\n",
      "1600\n",
      "1700\n",
      "1800\n",
      "1900\n",
      "2000\n",
      "2100\n",
      "2200\n",
      "2300\n",
      "2400\n",
      "2500\n",
      "2600\n",
      "2700\n",
      "2800\n",
      "2900\n",
      "3000\n",
      "3100\n",
      "3200\n",
      "3300\n",
      "3400\n",
      "3500\n",
      "3600\n",
      "3700\n",
      "3800\n",
      "3900\n",
      "4000\n",
      "4100\n",
      "4200\n",
      "4300\n",
      "4400\n",
      "4500\n",
      "4600\n",
      "4700\n",
      "4800\n",
      "4900\n",
      "5000\n",
      "5100\n",
      "5200\n",
      "5300\n",
      "5400\n",
      "5500\n",
      "5600\n"
     ]
    },
    {
     "name": "stderr",
     "output_type": "stream",
     "text": [
      "/tmp/ipykernel_1014747/3500070997.py:2: RuntimeWarning: Number of records from the header does not match the file size (perhaps the recording was not stopped before exiting). Inferring from the file size.\n",
      "  data = mne.io.read_raw_edf(path, include=list(chch_map.keys()), infer_types=True, verbose=False)\n"
     ]
    },
    {
     "name": "stdout",
     "output_type": "stream",
     "text": [
      "5700\n",
      "5800\n",
      "5900\n",
      "6000\n",
      "6100\n",
      "6200\n",
      "6300\n",
      "6400\n",
      "6500\n",
      "6600\n",
      "6700\n",
      "6800\n",
      "6900\n",
      "7000\n",
      "7100\n",
      "7200\n",
      "7300\n"
     ]
    }
   ],
   "source": [
    "all_paths = list(Path(\"./data/tug-data/edf\").glob(\"*/*/*/*/*.csv\"))\n",
    "pids, eids, esids, targets = [], [], [], []\n",
    "for i, path in enumerate(all_paths):\n",
    "    if i % 100 == 0:\n",
    "        print(i)\n",
    "    pid, eid, esid, target = parse_path_save_data(path, chch_mapping, EEG_FEAT_IDX)\n",
    "    pids.append(pid)\n",
    "    eids.append(eid)\n",
    "    esids.append(esid)\n",
    "    targets.append(target)\n",
    "\n",
    "df = pd.DataFrame({'patient_id': pids, 'eeg_id': eids, 'eeg_sub_id': esids, 'target': targets})"
   ]
  },
  {
   "cell_type": "code",
   "execution_count": 19,
   "id": "d714f038-8aee-47a4-88fc-7ad76a964626",
   "metadata": {},
   "outputs": [
    {
     "data": {
      "text/plain": [
       "(7347, 4)"
      ]
     },
     "execution_count": 19,
     "metadata": {},
     "output_type": "execute_result"
    }
   ],
   "source": [
    "df = pd.DataFrame({'patient_id': pids, 'eeg_id': eids, 'eeg_sub_id': esids, 'target': targets})\n",
    "df.shape"
   ]
  },
  {
   "cell_type": "code",
   "execution_count": 20,
   "id": "8bcab529-9a8c-42f4-913a-85abd4cc0b75",
   "metadata": {},
   "outputs": [],
   "source": [
    "df.to_csv(\"./data/tug_seizure_train.csv\", index=False)"
   ]
  },
  {
   "cell_type": "code",
   "execution_count": 21,
   "id": "bfb47041-029d-4d4c-90b0-fc992de47dd1",
   "metadata": {},
   "outputs": [
    {
     "data": {
      "text/html": [
       "<div>\n",
       "<style scoped>\n",
       "    .dataframe tbody tr th:only-of-type {\n",
       "        vertical-align: middle;\n",
       "    }\n",
       "\n",
       "    .dataframe tbody tr th {\n",
       "        vertical-align: top;\n",
       "    }\n",
       "\n",
       "    .dataframe thead th {\n",
       "        text-align: right;\n",
       "    }\n",
       "</style>\n",
       "<table border=\"1\" class=\"dataframe\">\n",
       "  <thead>\n",
       "    <tr style=\"text-align: right;\">\n",
       "      <th></th>\n",
       "      <th>patient_id</th>\n",
       "      <th>eeg_id</th>\n",
       "      <th>eeg_sub_id</th>\n",
       "      <th>target</th>\n",
       "    </tr>\n",
       "  </thead>\n",
       "  <tbody>\n",
       "    <tr>\n",
       "      <th>0</th>\n",
       "      <td>aaaaaqek</td>\n",
       "      <td>aaaaaqek_s010</td>\n",
       "      <td>t001</td>\n",
       "      <td>bckg</td>\n",
       "    </tr>\n",
       "    <tr>\n",
       "      <th>1</th>\n",
       "      <td>aaaaaqek</td>\n",
       "      <td>aaaaaqek_s010</td>\n",
       "      <td>t005</td>\n",
       "      <td>tcsz</td>\n",
       "    </tr>\n",
       "    <tr>\n",
       "      <th>2</th>\n",
       "      <td>aaaaaqek</td>\n",
       "      <td>aaaaaqek_s010</td>\n",
       "      <td>t004</td>\n",
       "      <td>bckg</td>\n",
       "    </tr>\n",
       "    <tr>\n",
       "      <th>3</th>\n",
       "      <td>aaaaaqek</td>\n",
       "      <td>aaaaaqek_s010</td>\n",
       "      <td>t002</td>\n",
       "      <td>bckg</td>\n",
       "    </tr>\n",
       "    <tr>\n",
       "      <th>4</th>\n",
       "      <td>aaaaaqek</td>\n",
       "      <td>aaaaaqek_s010</td>\n",
       "      <td>t008</td>\n",
       "      <td>bckg</td>\n",
       "    </tr>\n",
       "  </tbody>\n",
       "</table>\n",
       "</div>"
      ],
      "text/plain": [
       "  patient_id         eeg_id eeg_sub_id target\n",
       "0   aaaaaqek  aaaaaqek_s010       t001   bckg\n",
       "1   aaaaaqek  aaaaaqek_s010       t005   tcsz\n",
       "2   aaaaaqek  aaaaaqek_s010       t004   bckg\n",
       "3   aaaaaqek  aaaaaqek_s010       t002   bckg\n",
       "4   aaaaaqek  aaaaaqek_s010       t008   bckg"
      ]
     },
     "execution_count": 21,
     "metadata": {},
     "output_type": "execute_result"
    }
   ],
   "source": [
    "df.head()"
   ]
  },
  {
   "cell_type": "code",
   "execution_count": 22,
   "id": "3339eb9f-05af-4261-a88f-140464190bce",
   "metadata": {},
   "outputs": [],
   "source": [
    "def plot_eeg_data(data, sample_rate=200):\n",
    "    fig = make_subplots(\n",
    "        rows=4, cols=1, shared_xaxes=True, shared_yaxes=True, vertical_spacing=0.02\n",
    "    )\n",
    "    fig.add_trace(\n",
    "        go.Scatter(\n",
    "            x=np.arange(len(data)) / sample_rate,\n",
    "            y=data[:, 0],\n",
    "            mode=\"lines\",\n",
    "            name=\"channel 1\",\n",
    "        ),\n",
    "        row=1,\n",
    "        col=1,\n",
    "    )\n",
    "    fig.add_trace(\n",
    "        go.Scatter(\n",
    "            x=np.arange(len(data)) / sample_rate,\n",
    "            y=data[:, 1],\n",
    "            mode=\"lines\",\n",
    "            name=\"channel 2\",\n",
    "        ),\n",
    "        row=2,\n",
    "        col=1,\n",
    "    )\n",
    "    fig.add_trace(\n",
    "        go.Scatter(\n",
    "            x=np.arange(len(data)) / sample_rate,\n",
    "            y=data[:, 2],\n",
    "            mode=\"lines\",\n",
    "            name=\"channel 3\",\n",
    "        ),\n",
    "        row=3,\n",
    "        col=1,\n",
    "    )\n",
    "    fig.add_trace(\n",
    "        go.Scatter(\n",
    "            x=np.arange(len(data)) / sample_rate,\n",
    "            y=data[:, 3],\n",
    "            mode=\"lines\",\n",
    "            name=\"channel 4\",\n",
    "        ),\n",
    "        row=4,\n",
    "        col=1,\n",
    "    )\n",
    "    fig.update_layout(title_text=\"EEG data\", height=600, width=1200)\n",
    "    fig.show()"
   ]
  },
  {
   "cell_type": "code",
   "execution_count": null,
   "id": "43f490c2-8dc0-40ec-a64a-8790bec666b8",
   "metadata": {},
   "outputs": [],
   "source": [
    "import matplotlib.pyplot as plt\n",
    "import plotly.express as px\n",
    "from plotly.subplots import make_subplots\n",
    "import plotly.graph_objects as go\n",
    "eeg_data = np.load('./data/tug_np/aaaaaasf_s002_t000.npy')\n",
    "plot_eeg_data(eeg_data)"
   ]
  },
  {
   "cell_type": "code",
   "execution_count": 151,
   "id": "248866c2-fb3b-4281-8f1d-c7ba2627b427",
   "metadata": {},
   "outputs": [
    {
     "data": {
      "text/html": [
       "<div><style>\n",
       ".dataframe > thead > tr,\n",
       ".dataframe > tbody > tr {\n",
       "  text-align: right;\n",
       "  white-space: pre-wrap;\n",
       "}\n",
       "</style>\n",
       "<small>shape: (3, 5)</small><table border=\"1\" class=\"dataframe\"><thead><tr><th>channel</th><th>start_time</th><th>stop_time</th><th>label</th><th>confidence</th></tr><tr><td>str</td><td>f64</td><td>f64</td><td>str</td><td>f64</td></tr></thead><tbody><tr><td>&quot;FP1-F7&quot;</td><td>0.0</td><td>36.8868</td><td>&quot;bckg&quot;</td><td>1.0</td></tr><tr><td>&quot;FP1-F7&quot;</td><td>36.8868</td><td>183.3055</td><td>&quot;cpsz&quot;</td><td>1.0</td></tr><tr><td>&quot;FP1-F7&quot;</td><td>183.3055</td><td>301.0</td><td>&quot;bckg&quot;</td><td>1.0</td></tr></tbody></table></div>"
      ],
      "text/plain": [
       "shape: (3, 5)\n",
       "┌─────────┬────────────┬───────────┬───────┬────────────┐\n",
       "│ channel ┆ start_time ┆ stop_time ┆ label ┆ confidence │\n",
       "│ ---     ┆ ---        ┆ ---       ┆ ---   ┆ ---        │\n",
       "│ str     ┆ f64        ┆ f64       ┆ str   ┆ f64        │\n",
       "╞═════════╪════════════╪═══════════╪═══════╪════════════╡\n",
       "│ FP1-F7  ┆ 0.0        ┆ 36.8868   ┆ bckg  ┆ 1.0        │\n",
       "│ FP1-F7  ┆ 36.8868    ┆ 183.3055  ┆ cpsz  ┆ 1.0        │\n",
       "│ FP1-F7  ┆ 183.3055   ┆ 301.0     ┆ bckg  ┆ 1.0        │\n",
       "└─────────┴────────────┴───────────┴───────┴────────────┘"
      ]
     },
     "execution_count": 151,
     "metadata": {},
     "output_type": "execute_result"
    }
   ],
   "source": [
    "# df = pl.read_csv(\"data/tug-data/edf/train/aaaaaaac/s001_2002/02_tcp_le/aaaaaaac_s001_t000.csv\", skip_rows=5).filter(pl.col(\"channel\") == \"FP1-F7\")\n",
    "# df"
   ]
  },
  {
   "cell_type": "code",
   "execution_count": null,
   "id": "f951069a-d439-4638-8aac-6fb703cad81d",
   "metadata": {},
   "outputs": [],
   "source": [
    "# Algo \n",
    "# read .csv\n",
    "# filter FP1-F7 - if unque label only 'bckg'\n",
    "#    just take first 50 s\n",
    "# else:\n",
    "#  take floor[start of first non bckg label ]50 , if startTime/50 > 25, move start time by 20 s, also take next sample with no overlap\n",
    "# save npy resapled to 200 ; \n",
    "# patient id is the aaaa thing\n",
    "# eeg id is session id\n",
    "# eeg sub id is t000 thing"
   ]
  },
  {
   "cell_type": "code",
   "execution_count": 161,
   "id": "8c210400-219e-4ac0-8337-90b29c1bdb67",
   "metadata": {},
   "outputs": [
    {
     "name": "stdout",
     "output_type": "stream",
     "text": [
      "# version = csv_v1.0.0\n",
      "# bname = aaaaaajv_s002_t000\n",
      "# duration = 1425.00 secs\n",
      "# montage_file = $NEDC_NFC/lib/nedc_eas_default_montage.txt\n",
      "#\n",
      "channel,start_time,stop_time,label,confidence\n",
      "FP1-F7,0.0000,1425.0000,bckg,1.0000\n",
      "F7-T3,0.0000,1425.0000,bckg,1.0000\n",
      "T3-T5,0.0000,1425.0000,bckg,1.0000\n",
      "T5-O1,0.0000,1425.0000,bckg,1.0000\n"
     ]
    }
   ],
   "source": [
    "!head \"data/tug-data/edf/train/aaaaaajv/s002_2004/02_tcp_le/aaaaaajv_s002_t000.csv\""
   ]
  },
  {
   "cell_type": "code",
   "execution_count": 152,
   "id": "88a9f5b9-2b50-4430-bc9c-40af263abc87",
   "metadata": {},
   "outputs": [
    {
     "name": "stdout",
     "output_type": "stream",
     "text": [
      "Extracting EDF parameters from /home/mohsin/testing/hms_benchmark/data/tug-data/edf/train/aaaaaaac/s001_2002/02_tcp_le/aaaaaaac_s001_t000.edf...\n",
      "EDF file detected\n",
      "Setting channel info structure...\n",
      "Creating raw.info structure...\n"
     ]
    }
   ],
   "source": [
    "raw_data = mne.io.read_raw_edf(\"./data/tug-data/edf/train/aaaaaaac/s001_2002/02_tcp_le/aaaaaaac_s001_t000.edf\")\n"
   ]
  },
  {
   "cell_type": "code",
   "execution_count": 155,
   "id": "409048f5-84f6-4895-8b52-042c3eba40a0",
   "metadata": {},
   "outputs": [],
   "source": []
  },
  {
   "cell_type": "code",
   "execution_count": 157,
   "id": "bab4e6c0-8d75-49fe-b928-3c013cb19068",
   "metadata": {},
   "outputs": [
    {
     "name": "stdout",
     "output_type": "stream",
     "text": [
      "Extracting EDF parameters from /home/mohsin/testing/hms_benchmark/data/tug-data/edf/train/aaaaaaac/s001_2002/02_tcp_le/aaaaaaac_s001_t000.edf...\n",
      "EDF file detected\n",
      "Channel 'EEG FP1-LE' recognized as type EEG (renamed to 'FP1-LE').\n",
      "Channel 'EEG FP2-LE' recognized as type EEG (renamed to 'FP2-LE').\n",
      "Channel 'EEG F3-LE' recognized as type EEG (renamed to 'F3-LE').\n",
      "Channel 'EEG F4-LE' recognized as type EEG (renamed to 'F4-LE').\n",
      "Channel 'EEG C3-LE' recognized as type EEG (renamed to 'C3-LE').\n",
      "Channel 'EEG C4-LE' recognized as type EEG (renamed to 'C4-LE').\n",
      "Channel 'EEG A1-LE' recognized as type EEG (renamed to 'A1-LE').\n",
      "Channel 'EEG A2-LE' recognized as type EEG (renamed to 'A2-LE').\n",
      "Channel 'EEG P3-LE' recognized as type EEG (renamed to 'P3-LE').\n",
      "Channel 'EEG P4-LE' recognized as type EEG (renamed to 'P4-LE').\n",
      "Channel 'EEG O1-LE' recognized as type EEG (renamed to 'O1-LE').\n",
      "Channel 'EEG O2-LE' recognized as type EEG (renamed to 'O2-LE').\n",
      "Channel 'EEG F7-LE' recognized as type EEG (renamed to 'F7-LE').\n",
      "Channel 'EEG F8-LE' recognized as type EEG (renamed to 'F8-LE').\n",
      "Channel 'EEG T3-LE' recognized as type EEG (renamed to 'T3-LE').\n",
      "Channel 'EEG T4-LE' recognized as type EEG (renamed to 'T4-LE').\n",
      "Channel 'EEG T5-LE' recognized as type EEG (renamed to 'T5-LE').\n",
      "Channel 'EEG T6-LE' recognized as type EEG (renamed to 'T6-LE').\n",
      "Channel 'EEG FZ-LE' recognized as type EEG (renamed to 'FZ-LE').\n",
      "Channel 'EEG CZ-LE' recognized as type EEG (renamed to 'CZ-LE').\n",
      "Channel 'EEG PZ-LE' recognized as type EEG (renamed to 'PZ-LE').\n",
      "Channel 'EEG OZ-LE' recognized as type EEG (renamed to 'OZ-LE').\n",
      "Channel 'EEG PG1-LE' recognized as type EEG (renamed to 'PG1-LE').\n",
      "Channel 'EEG PG2-LE' recognized as type EEG (renamed to 'PG2-LE').\n",
      "Channel 'EEG EKG-LE' recognized as type EEG (renamed to 'EKG-LE').\n",
      "Channel 'EEG SP2-LE' recognized as type EEG (renamed to 'SP2-LE').\n",
      "Channel 'EEG SP1-LE' recognized as type EEG (renamed to 'SP1-LE').\n",
      "Channel 'EEG RLC-LE' recognized as type EEG (renamed to 'RLC-LE').\n",
      "Channel 'EEG LUC-LE' recognized as type EEG (renamed to 'LUC-LE').\n",
      "Channel 'EEG 30-LE' recognized as type EEG (renamed to '30-LE').\n",
      "Channel 'EEG T1-LE' recognized as type EEG (renamed to 'T1-LE').\n",
      "Channel 'EEG T2-LE' recognized as type EEG (renamed to 'T2-LE').\n",
      "Setting channel info structure...\n",
      "Creating raw.info structure...\n"
     ]
    }
   ],
   "source": [
    "np_data = get_np_data(\"./data/tug-data/edf/train/aaaaaaac/s001_2002/02_tcp_le/aaaaaaac_s001_t000.edf\", mapping, EEG_FEAT_IDX)"
   ]
  },
  {
   "cell_type": "code",
   "execution_count": 159,
   "id": "dcaa1a96-5289-4258-9aea-c5dac4b3c22d",
   "metadata": {},
   "outputs": [
    {
     "data": {
      "text/plain": [
       "(60200, 19)"
      ]
     },
     "execution_count": 159,
     "metadata": {},
     "output_type": "execute_result"
    }
   ],
   "source": [
    "np_data.shape"
   ]
  },
  {
   "cell_type": "code",
   "execution_count": null,
   "id": "07bbad02-e7fe-44d7-9a46-861681ad9899",
   "metadata": {},
   "outputs": [],
   "source": [
    "Path(\"./data/\")"
   ]
  },
  {
   "cell_type": "code",
   "execution_count": 4,
   "id": "4dc64027-8082-4878-97a1-124543cdd19d",
   "metadata": {},
   "outputs": [],
   "source": [
    "path = \"./data/tug-data/000/aaaaaaaa/s001_2015/01_tcp_ar/aaaaaaaa_s001_t000.edf\"\n",
    "edf_data = pyedflib.EdfReader(path)"
   ]
  },
  {
   "cell_type": "code",
   "execution_count": 10,
   "id": "a4f74014-41d0-4fee-a071-7d564e32c35c",
   "metadata": {},
   "outputs": [],
   "source": [
    "eeg_cols = ['EEG FP1-REF',\n",
    " 'EEG FP2-REF',\n",
    " 'EEG F3-REF',\n",
    " 'EEG F4-REF',\n",
    " 'EEG C3-REF',\n",
    " 'EEG C4-REF',\n",
    " 'EEG P3-REF',\n",
    " 'EEG P4-REF',\n",
    " 'EEG O1-REF',\n",
    " 'EEG O2-REF',\n",
    " 'EEG F7-REF',\n",
    " 'EEG F8-REF',\n",
    " 'EEG T3-REF',\n",
    " 'EEG T4-REF',\n",
    " 'EEG T5-REF',\n",
    " 'EEG T6-REF',\n",
    " 'EEG T1-REF',\n",
    " 'EEG T2-REF',\n",
    " 'EEG FZ-REF',\n",
    " 'EEG CZ-REF',\n",
    " 'EEG PZ-REF']"
   ]
  },
  {
   "cell_type": "code",
   "execution_count": 11,
   "id": "256e3a32-733c-42c3-95dc-305ba6993697",
   "metadata": {},
   "outputs": [
    {
     "data": {
      "text/plain": [
       "['EEG FP1-REF',\n",
       " 'EEG FP2-REF',\n",
       " 'EEG F3-REF',\n",
       " 'EEG F4-REF',\n",
       " 'EEG C3-REF',\n",
       " 'EEG C4-REF',\n",
       " 'EEG P3-REF',\n",
       " 'EEG P4-REF',\n",
       " 'EEG O1-REF',\n",
       " 'EEG O2-REF',\n",
       " 'EEG F7-REF',\n",
       " 'EEG F8-REF',\n",
       " 'EEG T3-REF',\n",
       " 'EEG T4-REF',\n",
       " 'EEG T5-REF',\n",
       " 'EEG T6-REF',\n",
       " 'EEG T1-REF',\n",
       " 'EEG T2-REF',\n",
       " 'EEG FZ-REF',\n",
       " 'EEG CZ-REF',\n",
       " 'EEG PZ-REF',\n",
       " 'EEG EKG1-REF',\n",
       " 'EEG LOC-REF',\n",
       " 'EEG ROC-REF',\n",
       " 'EMG-REF',\n",
       " 'EEG A1-REF',\n",
       " 'EEG A2-REF',\n",
       " 'RESP ABDOMEN-REF',\n",
       " 'IBI',\n",
       " 'BURSTS',\n",
       " 'SUPPR']"
      ]
     },
     "execution_count": 11,
     "metadata": {},
     "output_type": "execute_result"
    }
   ],
   "source": [
    "def channel_label_reformat(edf_ch_labels):\n",
    "    return [lb.split(\"-\")[0].replace(\"EEG \", \"\")]\n",
    "    \n",
    "edf_data.getSignalLabels()"
   ]
  },
  {
   "cell_type": "code",
   "execution_count": 42,
   "id": "cf733ce6-8981-4c1e-a607-17ae8329c0d1",
   "metadata": {},
   "outputs": [
    {
     "data": {
      "text/plain": [
       "b'Startdate 01-JAN-2015 aaaaaaaa_s001 XXX #'"
      ]
     },
     "execution_count": 42,
     "metadata": {},
     "output_type": "execute_result"
    }
   ],
   "source": [
    "edf_data."
   ]
  },
  {
   "cell_type": "code",
   "execution_count": 43,
   "id": "afa85525-134d-4548-9946-0c50b614733b",
   "metadata": {},
   "outputs": [],
   "source": []
  },
  {
   "cell_type": "code",
   "execution_count": 44,
   "id": "58cf4cf2-bfd6-446d-858f-457719f76c7c",
   "metadata": {},
   "outputs": [
    {
     "data": {
      "text/plain": [
       "{'Fp1': 0,\n",
       " 'F3': 1,\n",
       " 'C3': 2,\n",
       " 'P3': 3,\n",
       " 'F7': 4,\n",
       " 'T3': 5,\n",
       " 'T5': 6,\n",
       " 'O1': 7,\n",
       " 'Fz': 8,\n",
       " 'Cz': 9,\n",
       " 'Pz': 10,\n",
       " 'Fp2': 11,\n",
       " 'F4': 12,\n",
       " 'C4': 13,\n",
       " 'P4': 14,\n",
       " 'F8': 15,\n",
       " 'T4': 16,\n",
       " 'T6': 17,\n",
       " 'O2': 18,\n",
       " 'EKG': 19}"
      ]
     },
     "execution_count": 44,
     "metadata": {},
     "output_type": "execute_result"
    }
   ],
   "source": [
    "EEG_FEAT_IDX"
   ]
  },
  {
   "cell_type": "code",
   "execution_count": 51,
   "id": "dcc91d59-7ff2-4061-8057-63243ac29f4c",
   "metadata": {},
   "outputs": [],
   "source": [
    "def get_edf_data(edf, feat_idx_dict):\n",
    "    sig_lbs = edf_data.getSignalLabels()\n",
    "    samples = edf.getNSamples()[0]\n",
    "    signals = np.zeros(shape=(samples, len(feat_idx_dict)))\n",
    "    for lb_idx, lb in enumerate(sig_lbs):\n",
    "        lb = lb.split(\"-\")[0].replace(\"EEG \", \"\")\n",
    "        if lb not in feat_idx_dict:\n",
    "            continue\n",
    "        sig = edf.readSignal(lb_idx)\n",
    "        signals[:, feat_idx_dict[lb]] = sig\n",
    "    return signals"
   ]
  },
  {
   "cell_type": "code",
   "execution_count": 112,
   "id": "1ba069ae-da7a-4fb1-889f-6bf042f961ec",
   "metadata": {},
   "outputs": [],
   "source": [
    "import mne\n"
   ]
  },
  {
   "cell_type": "code",
   "execution_count": 125,
   "id": "935b3aee-08d9-4e55-b40d-4fa76f6c922f",
   "metadata": {},
   "outputs": [],
   "source": [
    "\n",
    "    "
   ]
  },
  {
   "cell_type": "code",
   "execution_count": 126,
   "id": "bba41ed5-666a-4cc9-98c8-70740798d69b",
   "metadata": {},
   "outputs": [],
   "source": [
    "path = \"data/tug-data/000/aaaaaaaa/s001_2015/01_tcp_ar/aaaaaaaa_s001_t000.edf\""
   ]
  },
  {
   "cell_type": "code",
   "execution_count": 127,
   "id": "49330e44-7e3e-452e-8e2a-26883860a46d",
   "metadata": {},
   "outputs": [],
   "source": [
    "from pathlib import Path"
   ]
  },
  {
   "cell_type": "code",
   "execution_count": 133,
   "id": "5828acac-ef33-48f6-93a7-e4721f79c838",
   "metadata": {},
   "outputs": [],
   "source": [
    "patient_id = Path(path).parent.parent.parent.stem\n",
    "eeg_id = Path(path).stem.split(\"_\")[1]\n",
    "eeg_sub_id = Path(path).stem.split(\"_\")[1]"
   ]
  },
  {
   "cell_type": "code",
   "execution_count": 134,
   "id": "c71f6030-69dd-44ee-b349-8823edf0310c",
   "metadata": {},
   "outputs": [
    {
     "name": "stdout",
     "output_type": "stream",
     "text": [
      "Extracting EDF parameters from /home/mohsin/testing/hms_benchmark/data/tug-data/000/aaaaaaaa/s001_2015/01_tcp_ar/aaaaaaaa_s001_t000.edf...\n",
      "EDF file detected\n",
      "Channel 'EEG FP1-REF' recognized as type EEG (renamed to 'FP1-REF').\n",
      "Channel 'EEG FP2-REF' recognized as type EEG (renamed to 'FP2-REF').\n",
      "Channel 'EEG F3-REF' recognized as type EEG (renamed to 'F3-REF').\n",
      "Channel 'EEG F4-REF' recognized as type EEG (renamed to 'F4-REF').\n",
      "Channel 'EEG C3-REF' recognized as type EEG (renamed to 'C3-REF').\n",
      "Channel 'EEG C4-REF' recognized as type EEG (renamed to 'C4-REF').\n",
      "Channel 'EEG P3-REF' recognized as type EEG (renamed to 'P3-REF').\n",
      "Channel 'EEG P4-REF' recognized as type EEG (renamed to 'P4-REF').\n",
      "Channel 'EEG O1-REF' recognized as type EEG (renamed to 'O1-REF').\n",
      "Channel 'EEG O2-REF' recognized as type EEG (renamed to 'O2-REF').\n",
      "Channel 'EEG F7-REF' recognized as type EEG (renamed to 'F7-REF').\n",
      "Channel 'EEG F8-REF' recognized as type EEG (renamed to 'F8-REF').\n",
      "Channel 'EEG T3-REF' recognized as type EEG (renamed to 'T3-REF').\n",
      "Channel 'EEG T4-REF' recognized as type EEG (renamed to 'T4-REF').\n",
      "Channel 'EEG T5-REF' recognized as type EEG (renamed to 'T5-REF').\n",
      "Channel 'EEG T6-REF' recognized as type EEG (renamed to 'T6-REF').\n",
      "Channel 'EEG T1-REF' recognized as type EEG (renamed to 'T1-REF').\n",
      "Channel 'EEG T2-REF' recognized as type EEG (renamed to 'T2-REF').\n",
      "Channel 'EEG FZ-REF' recognized as type EEG (renamed to 'FZ-REF').\n",
      "Channel 'EEG CZ-REF' recognized as type EEG (renamed to 'CZ-REF').\n",
      "Channel 'EEG PZ-REF' recognized as type EEG (renamed to 'PZ-REF').\n",
      "Channel 'EEG EKG1-REF' recognized as type EEG (renamed to 'EKG1-REF').\n",
      "Channel 'EEG LOC-REF' recognized as type EEG (renamed to 'LOC-REF').\n",
      "Channel 'EEG ROC-REF' recognized as type EEG (renamed to 'ROC-REF').\n",
      "Channel 'EEG A1-REF' recognized as type EEG (renamed to 'A1-REF').\n",
      "Channel 'EEG A2-REF' recognized as type EEG (renamed to 'A2-REF').\n",
      "Channel 'RESP ABDOMEN-REF' recognized as type RESP (renamed to 'ABDOMEN-REF').\n",
      "Setting channel info structure...\n",
      "Creating raw.info structure...\n"
     ]
    }
   ],
   "source": [
    "data = mne.io.read_raw_edf(path, include=list(mapping.keys()), infer_types=True)"
   ]
  },
  {
   "cell_type": "code",
   "execution_count": 138,
   "id": "be01ba90-01d0-4ba2-a30e-e6dda00c836f",
   "metadata": {},
   "outputs": [
    {
     "data": {
      "text/plain": [
       "<Annotations | 0 segments>"
      ]
     },
     "execution_count": 138,
     "metadata": {},
     "output_type": "execute_result"
    }
   ],
   "source": [
    "data.annotations"
   ]
  },
  {
   "cell_type": "code",
   "execution_count": 122,
   "id": "88a387b9-895e-4a7d-b90f-161de68792ee",
   "metadata": {},
   "outputs": [
    {
     "data": {
      "text/plain": [
       "array([-6.19379351e-05, -6.61235401e-05, -5.87524443e-05, ...,\n",
       "        1.62831579e-06, -3.76704084e-06, -1.02057987e-05])"
      ]
     },
     "execution_count": 122,
     "metadata": {},
     "output_type": "execute_result"
    }
   ],
   "source": [
    "def get_metadata(path):\n",
    "    path"
   ]
  },
  {
   "cell_type": "code",
   "execution_count": 123,
   "id": "28f09513-0063-413b-a597-956e9968d1fe",
   "metadata": {},
   "outputs": [
    {
     "data": {
      "text/plain": [
       "array([-6.19379351e-05, -6.61235401e-05, -5.87524443e-05, ...,\n",
       "        1.62831579e-06, -3.76704084e-06, -1.02057987e-05])"
      ]
     },
     "execution_count": 123,
     "metadata": {},
     "output_type": "execute_result"
    }
   ],
   "source": [
    "out[:, 11]"
   ]
  },
  {
   "cell_type": "code",
   "execution_count": 108,
   "id": "f5105281-8867-4f7d-b261-606af16e6b0a",
   "metadata": {},
   "outputs": [],
   "source": [
    "# train = pd.read_csv(\"./data/train.csv\")\n",
    "# train.groupby(\"eeg_id\")[\"eeg_sub_id\"].max().describe([0.1, 0.25, 0.5, 0.75, 0.9, 0.999])"
   ]
  },
  {
   "cell_type": "code",
   "execution_count": 109,
   "id": "56680a06-dbd7-46a5-b193-59292db88493",
   "metadata": {},
   "outputs": [
    {
     "data": {
      "text/plain": [
       "array([[-4.75246976e-05, -5.73456149e-05, -4.51007682e-05, ...,\n",
       "        -6.01130135e-05, -6.23260009e-05, -6.03762331e-05],\n",
       "       [-6.19379351e-05, -6.61235401e-05, -5.87524443e-05, ...,\n",
       "         1.62831579e-06, -3.76704084e-06, -1.02057987e-05],\n",
       "       [-2.19955418e-05, -3.04084548e-05, -2.65877634e-05, ...,\n",
       "        -8.45866558e-05, -8.51300341e-05, -8.13542095e-05],\n",
       "       ...,\n",
       "       [-7.85704210e-05, -9.06509943e-05, -8.06392528e-05, ...,\n",
       "        -6.20824706e-05, -7.08618500e-05, -7.21469669e-05],\n",
       "       [-1.83554611e-05, -2.78063855e-05, -2.27284658e-05, ...,\n",
       "        -6.27773092e-05, -6.36513379e-05, -5.67295069e-05],\n",
       "       [-2.92096710e-05, -3.75519442e-05, -3.12346425e-05, ...,\n",
       "        -1.81569197e-05, -2.40899525e-05, -2.51472194e-05]])"
      ]
     },
     "execution_count": 109,
     "metadata": {},
     "output_type": "execute_result"
    }
   ],
   "source": [
    "data.get_data()"
   ]
  },
  {
   "cell_type": "code",
   "execution_count": 111,
   "id": "75a3e96a-8a92-4e1f-848a-09846d898692",
   "metadata": {},
   "outputs": [],
   "source": [
    "data.ch_names\n"
   ]
  },
  {
   "cell_type": "code",
   "execution_count": 54,
   "id": "57cc5b78-1299-4886-8021-3b03658ac6cb",
   "metadata": {},
   "outputs": [],
   "source": [
    "np_data = get_edf_data(edf_data, EEG_FEAT_IDX).shape"
   ]
  },
  {
   "cell_type": "code",
   "execution_count": 56,
   "id": "2defe40f-2a37-4720-92c0-90fd7a7ed896",
   "metadata": {},
   "outputs": [
    {
     "data": {
      "text/plain": [
       "(200,)"
      ]
     },
     "execution_count": 56,
     "metadata": {},
     "output_type": "execute_result"
    }
   ],
   "source": [
    "def resample_signal(signals, to_freq, curr_freq):\n",
    "    n = signals.shape[0]\n",
    "    num = int(to_freq * n )\n",
    "    resampled = resample(signals, num=num, axis=1)\n",
    "    return resampled\n",
    "    "
   ]
  },
  {
   "cell_type": "code",
   "execution_count": null,
   "id": "ea7d0a6e-fe3f-4a59-9b9e-9bb49c03cfb1",
   "metadata": {},
   "outputs": [],
   "source": [
    "for edf_fn in [\"./data/tug-data/000/aaaaaaaa/s001_2015/01_tcp_ar/aaaaaaaa_s001_t000.edf\"]:\n",
    "    with pyedflib.EdfReader(edf_fn) as f:\n",
    "        # assuming all sample frequencies the same...Not true for all signals, but appears to be true for signals of interest.\n",
    "        sample_freq = f.getSampleFrequencies()\n",
    "        total_recording_len = f.readSignal(0).shape[0]\n",
    "        total_recording_seconds = total_recording_len/sample_freq[0]\n",
    "        # use to verify all 20 signals in session\n",
    "        signal_labels = f.getSignalLabels()\n",
    "        \n",
    "        \n"
   ]
  }
 ],
 "metadata": {
  "kernelspec": {
   "display_name": "Python 3 (ipykernel)",
   "language": "python",
   "name": "python3"
  },
  "language_info": {
   "codemirror_mode": {
    "name": "ipython",
    "version": 3
   },
   "file_extension": ".py",
   "mimetype": "text/x-python",
   "name": "python",
   "nbconvert_exporter": "python",
   "pygments_lexer": "ipython3",
   "version": "3.10.12"
  }
 },
 "nbformat": 4,
 "nbformat_minor": 5
}
